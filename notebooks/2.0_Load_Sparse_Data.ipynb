{
 "cells": [
  {
   "cell_type": "markdown",
   "metadata": {},
   "source": [
    "# 2.0 Load Sparse Data"
   ]
  },
  {
   "cell_type": "code",
   "execution_count": 1,
   "metadata": {},
   "outputs": [],
   "source": [
    "import numpy as np\n",
    "import pandas as pd"
   ]
  },
  {
   "cell_type": "code",
   "execution_count": 2,
   "metadata": {},
   "outputs": [],
   "source": [
    "def load_gene_exp_to_df(inst_path):\n",
    "  '''\n",
    "  Loads gene expression data from 10x in sparse matrix format and returns a\n",
    "  Pandas dataframe\n",
    "  '''\n",
    "\n",
    "  import pandas as pd\n",
    "  from scipy import io\n",
    "  from scipy import sparse\n",
    "  from ast import literal_eval as make_tuple\n",
    "\n",
    "  # matrix\n",
    "  # Matrix = io.mmread( inst_path + 'matrix.mtx')\n",
    "  # mat = Matrix.todense()\n",
    "  mat = io.mmread( inst_path + 'matrix.mtx')\n",
    "    \n",
    "  # genes\n",
    "  filename = inst_path + 'genes.tsv'\n",
    "  f = open(filename, 'r')\n",
    "  lines = f.readlines()\n",
    "  f.close()\n",
    "\n",
    "  # add unique id only to duplicate genes\n",
    "  ini_genes = []\n",
    "  for inst_line in lines:\n",
    "      inst_line = inst_line.strip().split()\n",
    "      if len(inst_line) > 1:\n",
    "        inst_gene = inst_line[1]\n",
    "      else:\n",
    "        inst_gene = inst_line[0]\n",
    "      ini_genes.append(inst_gene)\n",
    "\n",
    "  gene_name_count = pd.Series(ini_genes).value_counts()\n",
    "  duplicate_genes = gene_name_count[gene_name_count > 1].index.tolist()\n",
    "\n",
    "  dup_index = {}\n",
    "  genes = []\n",
    "  for inst_row in ini_genes:\n",
    "\n",
    "    # add index to non-unique genes\n",
    "    if inst_row in duplicate_genes:\n",
    "\n",
    "      # calc_non-unque index\n",
    "      if inst_row not in dup_index:\n",
    "        dup_index[inst_row] = 1\n",
    "      else:\n",
    "        dup_index[inst_row] = dup_index[inst_row] + 1\n",
    "\n",
    "      new_row = inst_row + '_' + str(dup_index[inst_row])\n",
    "\n",
    "    else:\n",
    "      new_row = inst_row\n",
    "\n",
    "    genes.append(new_row)\n",
    "\n",
    "  # barcodes\n",
    "  filename = inst_path + 'barcodes.tsv'\n",
    "  f = open(filename, 'r')\n",
    "  lines = f.readlines()\n",
    "  f.close()\n",
    "\n",
    "  cell_barcodes = []\n",
    "  for inst_bc in lines:\n",
    "      inst_bc = inst_bc.strip().split('\\t')\n",
    "\n",
    "      # remove dash from barcodes if necessary\n",
    "      if '-' in inst_bc[0]:\n",
    "        inst_bc[0] = inst_bc[0].split('-')[0]\n",
    "\n",
    "      cell_barcodes.append(inst_bc[0])\n",
    "\n",
    "  # parse tuples if necessary\n",
    "  try:\n",
    "      cell_barcodes = [make_tuple(x) for x in cell_barcodes]\n",
    "  except:\n",
    "      pass\n",
    "\n",
    "  try:\n",
    "      genes = [make_tuple(x) for x in genes]\n",
    "  except:\n",
    "      pass\n",
    "\n",
    "  # make dataframe\n",
    "  sdf = pd.SparseDataFrame(mat, index=genes, columns=cell_barcodes)\n",
    "\n",
    "  return sdf"
   ]
  },
  {
   "cell_type": "code",
   "execution_count": null,
   "metadata": {},
   "outputs": [],
   "source": [
    "%%time\n",
    "df = {}\n",
    "df['ini'] = load_gene_exp_to_df('../download/atlas/atlas_data/')\n",
    "df['ini'].shape"
   ]
  },
  {
   "cell_type": "code",
   "execution_count": null,
   "metadata": {},
   "outputs": [],
   "source": []
  }
 ],
 "metadata": {
  "kernelspec": {
   "display_name": "Python 3",
   "language": "python",
   "name": "python3"
  },
  "language_info": {
   "codemirror_mode": {
    "name": "ipython",
    "version": 3
   },
   "file_extension": ".py",
   "mimetype": "text/x-python",
   "name": "python",
   "nbconvert_exporter": "python",
   "pygments_lexer": "ipython3",
   "version": "3.6.5"
  }
 },
 "nbformat": 4,
 "nbformat_minor": 2
}
